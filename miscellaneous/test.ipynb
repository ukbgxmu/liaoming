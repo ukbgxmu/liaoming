{
 "cells": [
  {
   "cell_type": "code",
   "id": "initial_id",
   "metadata": {
    "collapsed": true,
    "ExecuteTime": {
     "end_time": "2025-08-15T01:01:41.429873Z",
     "start_time": "2025-08-15T01:01:41.421119Z"
    }
   },
   "source": [
    "from warnings import catch_warnings\n",
    "\n",
    "print(\"hi\")"
   ],
   "outputs": [
    {
     "name": "stdout",
     "output_type": "stream",
     "text": [
      "hi\n"
     ]
    }
   ],
   "execution_count": 1
  },
  {
   "metadata": {},
   "cell_type": "markdown",
   "source": "需要*linux/WS*执行单行指令，用‘!’",
   "id": "60511645e2ef9c4"
  },
  {
   "metadata": {
    "ExecuteTime": {
     "end_time": "2025-08-15T01:18:52.958764Z",
     "start_time": "2025-08-15T01:18:52.741685Z"
    }
   },
   "cell_type": "code",
   "source": "! ls -l",
   "id": "2b619d1284493e70",
   "outputs": [
    {
     "name": "stdout",
     "output_type": "stream",
     "text": [
      "total 56\r\n",
      "-rw-r--r--  1 maoyan  staff  4909 Aug 14 17:58 统计获奖人员奖项.ipynb\r\n",
      "-rw-r--r--@ 1 maoyan  staff   662 Aug 15 09:00 README.md\r\n",
      "-rw-r--r--  1 maoyan  staff  2875 Aug 15 09:16 test.ipynb\r\n",
      "-rw-r--r--  1 maoyan  staff    30 Aug 14 17:13 test.py\r\n",
      "-rw-r--r--  1 maoyan  staff    63 Aug 15 09:18 test.R\r\n",
      "-rw-r--r--  1 maoyan  staff    18 Aug 15 09:12 test.sh\r\n"
     ]
    }
   ],
   "execution_count": 8
  },
  {
   "metadata": {},
   "cell_type": "markdown",
   "source": "‘dx login’以后输入账号信息，进入RAP系统\n",
   "id": "38fa790f9da7a6da"
  },
  {
   "metadata": {
    "ExecuteTime": {
     "end_time": "2025-08-15T01:05:53.587260Z",
     "start_time": "2025-08-15T01:05:53.582310Z"
    }
   },
   "cell_type": "code",
   "outputs": [],
   "execution_count": 6,
   "source": "# dx login",
   "id": "7f513a64c97b1b3d"
  },
  {
   "metadata": {},
   "cell_type": "markdown",
   "source": "需要*linux/WSL*执行多行指令，用‘%%bash’",
   "id": "b284006798c10fa0"
  },
  {
   "metadata": {
    "ExecuteTime": {
     "end_time": "2025-08-15T01:19:32.723522Z",
     "start_time": "2025-08-15T01:19:32.679974Z"
    }
   },
   "cell_type": "code",
   "source": [
    "%%bash\n",
    "\n",
    "cat>test.sh<<'EOF'\n",
    "\n",
    "#!/bin/bash\n",
    "ls -l\n",
    "EOF\n",
    "\n",
    "cat test.sh\n"
   ],
   "id": "bcbcfb905a3ba2c6",
   "outputs": [
    {
     "name": "stdout",
     "output_type": "stream",
     "text": [
      "\n",
      "#!/bin/bash\n",
      "ls -l\n"
     ]
    }
   ],
   "execution_count": 10
  },
  {
   "metadata": {},
   "cell_type": "markdown",
   "source": "利用*Rstudio*生成一个作图的‘test.R’代码，存于当前目录以后，开始测试",
   "id": "8679672f5052b7d3"
  },
  {
   "metadata": {
    "ExecuteTime": {
     "end_time": "2025-08-15T01:20:21.958069Z",
     "start_time": "2025-08-15T01:20:21.436494Z"
    }
   },
   "cell_type": "code",
   "outputs": [
    {
     "name": "stdout",
     "output_type": "stream",
     "text": [
      "null device \n",
      "          1 \n",
      "total 96\n",
      "-rw-r--r--  1 maoyan  staff   4909 Aug 14 17:58 统计获奖人员奖项.ipynb\n",
      "-rw-r--r--@ 1 maoyan  staff    662 Aug 15 09:00 README.md\n",
      "-rw-r--r--  1 maoyan  staff   4056 Aug 15 09:20 test.ipynb\n",
      "-rw-r--r--  1 maoyan  staff  17058 Aug 15 09:20 test.png\n",
      "-rw-r--r--  1 maoyan  staff     30 Aug 14 17:13 test.py\n",
      "-rw-r--r--  1 maoyan  staff     62 Aug 15 09:20 test.R\n",
      "-rw-r--r--  1 maoyan  staff     19 Aug 15 09:19 test.sh\n"
     ]
    }
   ],
   "execution_count": 12,
   "source": [
    "%%bash\n",
    "Rscript test.R\n",
    "ls -l"
   ],
   "id": "63b53f273d3f2a85"
  }
 ],
 "metadata": {
  "kernelspec": {
   "display_name": "Python 3",
   "language": "python",
   "name": "python3"
  },
  "language_info": {
   "codemirror_mode": {
    "name": "ipython",
    "version": 2
   },
   "file_extension": ".py",
   "mimetype": "text/x-python",
   "name": "python",
   "nbconvert_exporter": "python",
   "pygments_lexer": "ipython2",
   "version": "2.7.6"
  }
 },
 "nbformat": 4,
 "nbformat_minor": 5
}
