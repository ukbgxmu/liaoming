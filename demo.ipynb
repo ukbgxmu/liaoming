{
 "cells": [
  {
   "metadata": {
    "collapsed": true,
    "ExecuteTime": {
     "end_time": "2025-08-14T09:58:27.504778Z",
     "start_time": "2025-08-14T09:58:27.500425Z"
    }
   },
   "cell_type": "code",
   "source": "print(\"hello world\")",
   "id": "475facc5684a1700",
   "outputs": [
    {
     "name": "stdout",
     "output_type": "stream",
     "text": [
      "hello world\n"
     ]
    }
   ],
   "execution_count": 15
  },
  {
   "metadata": {
    "ExecuteTime": {
     "end_time": "2025-08-14T09:58:27.548057Z",
     "start_time": "2025-08-14T09:58:27.533485Z"
    }
   },
   "cell_type": "code",
   "source": [
    "import re\n",
    "from collections import defaultdict\n",
    "\n",
    "# 读取指定路径的txt文件内容\n",
    "file_path = \"/Users/maoyan/Nutstore Files/data/上台领奖名单8.14.txt\"\n",
    "\n",
    "try:\n",
    "    with open(file_path, 'r', encoding='utf-8') as file:\n",
    "        content = file.read()\n",
    "        print(\"content is ready\")\n",
    "except FileNotFoundError:\n",
    "    print(f\"文件未找到: {file_path}\")\n",
    "except Exception as e:\n",
    "    print(f\"读取文件时发生错误: {e}\")\n"
   ],
   "id": "9da67a5f9165c04e",
   "outputs": [
    {
     "name": "stdout",
     "output_type": "stream",
     "text": [
      "content is ready\n"
     ]
    }
   ],
   "execution_count": 16
  },
  {
   "metadata": {
    "ExecuteTime": {
     "end_time": "2025-08-14T09:58:27.613348Z",
     "start_time": "2025-08-14T09:58:27.601217Z"
    }
   },
   "cell_type": "code",
   "source": [
    "# 初始化一个字典来统计每个人所在的标题\n",
    "name_to_titles = defaultdict(set)\n",
    "\n",
    "# 使用正则表达式匹配标题和人名\n",
    "lines = content.splitlines()\n",
    "current_title = None\n",
    "title_pattern = re.compile(r'^\\d+\\..*?。|^\\（[一二三四五六七八九十]+\\）.*?。')\n",
    "name_pattern = re.compile(r'\\S+')\n",
    "\n",
    "for line in lines:\n",
    "    line = line.strip()\n",
    "    if title_pattern.match(line):  # 如果是标题\n",
    "        current_title = line\n",
    "    elif current_title:  # 如果是人名\n",
    "        names = name_pattern.findall(line)\n",
    "        for name in names:\n",
    "            name_to_titles[name].add(current_title)\n",
    "\n",
    "if not name_to_titles:\n",
    "    print(\"No data to process.\")\n",
    "else:\n",
    "    print(\"good to print\")\n",
    "\n",
    "# # 打印统计结果\n",
    "# for name, titles in name_to_titles.items():\n",
    "#     print(f\"{name} 出现在 {len(titles)} 个标题中: {', '.join(titles)}\")\n"
   ],
   "id": "c121bfb95e3efdf5",
   "outputs": [
    {
     "name": "stdout",
     "output_type": "stream",
     "text": [
      "good to print\n"
     ]
    }
   ],
   "execution_count": 17
  },
  {
   "cell_type": "code",
   "id": "d041abaf3fa422f3",
   "metadata": {
    "ExecuteTime": {
     "end_time": "2025-08-14T09:58:27.698322Z",
     "start_time": "2025-08-14T09:58:27.629456Z"
    }
   },
   "source": [
    "import pandas as pd\n",
    "import openpyxl\n",
    "# Ensure the openpyxl module is installed for exporting to Excel\n",
    "\n",
    "try:\n",
    "    pass  # Placeholder for any code you might want to add in the try block\n",
    "except ImportError:\n",
    "    print(\"openpyxl 模块未安装，请使用以下命令安装：\")\n",
    "    print(\"!pip install openpyxl\")\n",
    "\n",
    "# 将统计结果保存到一个DataFrame中\n",
    "result_data = {'Name': [], 'Title Count': [], 'Titles': []}\n",
    "for name, titles in name_to_titles.items():\n",
    "    result_data['Name'].append(name)\n",
    "    result_data['Title Count'].append(len(titles))\n",
    "    result_data['Titles'].append(', '.join(titles))\n",
    "\n",
    "result_df = pd.DataFrame(result_data)\n",
    "\n",
    "# 导出到Excel文件\n",
    "output_path = file_path.rsplit('/', 1)[0] + '/统计结果.xlsx'\n",
    "result_df.to_excel(output_path, index=False, encoding='utf-8')\n",
    "print(f\"统计结果已导出到: {output_path}\")"
   ],
   "outputs": [
    {
     "name": "stdout",
     "output_type": "stream",
     "text": [
      "统计结果已导出到: /Users/maoyan/Nutstore Files/data/统计结果.xlsx\n"
     ]
    }
   ],
   "execution_count": 18
  },
  {
   "metadata": {},
   "cell_type": "markdown",
   "source": "",
   "id": "e6d1585ebf54c247"
  }
 ],
 "metadata": {
  "kernelspec": {
   "display_name": "untitled-z3V5w79D",
   "language": "python",
   "name": "python3"
  },
  "language_info": {
   "codemirror_mode": {
    "name": "ipython",
    "version": 3
   },
   "file_extension": ".py",
   "mimetype": "text/x-python",
   "name": "python",
   "nbconvert_exporter": "python",
   "pygments_lexer": "ipython3",
   "version": "3.8.2"
  }
 },
 "nbformat": 4,
 "nbformat_minor": 5
}
