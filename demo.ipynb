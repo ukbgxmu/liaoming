{
 "cells": [
  {
   "cell_type": "code",
   "id": "initial_id",
   "metadata": {
    "collapsed": true,
    "ExecuteTime": {
     "end_time": "2025-08-14T09:32:59.415449Z",
     "start_time": "2025-08-14T09:32:59.405898Z"
    }
   },
   "source": [
    "print(\"hello world\")"
   ],
   "outputs": [
    {
     "name": "stdout",
     "output_type": "stream",
     "text": [
      "hello world\n"
     ]
    }
   ],
   "execution_count": 1
  },
  {
   "cell_type": "code",
   "id": "c218b658a8f29b3a",
   "metadata": {
    "ExecuteTime": {
     "end_time": "2025-08-14T09:33:04.154951Z",
     "start_time": "2025-08-14T09:33:04.149249Z"
    }
   },
   "source": [
    "import re\n",
    "from collections import defaultdict\n",
    "\n",
    "# 读取指定路径的txt文件内容\n",
    "file_path = \"/Users/maoyan/Nutstore Files/data/上台领奖名单8.14.txt\"\n",
    "\n",
    "try:\n",
    "    with open(file_path, 'r', encoding='utf-8') as file:\n",
    "        content = file.read()\n",
    "        print(\"content is ready\")\n",
    "except FileNotFoundError:\n",
    "    print(f\"文件未找到: {file_path}\")\n",
    "except Exception as e:\n",
    "    print(f\"读取文件时发生错误: {e}\")\n"
   ],
   "outputs": [
    {
     "name": "stdout",
     "output_type": "stream",
     "text": [
      "content is ready\n"
     ]
    }
   ],
   "execution_count": 2
  },
  {
   "cell_type": "code",
   "execution_count": 5,
   "id": "7905ad186fb1883c",
   "metadata": {
    "ExecuteTime": {
     "end_time": "2025-08-14T09:08:27.411026Z",
     "start_time": "2025-08-14T09:08:27.386423Z"
    }
   },
   "outputs": [
    {
     "name": "stdout",
     "output_type": "stream",
     "text": [
      "good to print\n"
     ]
    }
   ],
   "source": [
    "# 初始化一个字典来统计每个人所在的标题\n",
    "name_to_titles = defaultdict(set)\n",
    "\n",
    "# 使用正则表达式匹配标题和人名\n",
    "lines = content.splitlines()\n",
    "current_title = None\n",
    "title_pattern = re.compile(r'^\\d+\\..*?。|^\\（[一二三四五六七八九十]+\\）.*?。')\n",
    "name_pattern = re.compile(r'\\S+')\n",
    "\n",
    "for line in lines:\n",
    "    line = line.strip()\n",
    "    if title_pattern.match(line):  # 如果是标题\n",
    "        current_title = line\n",
    "    elif current_title:  # 如果是人名\n",
    "        names = name_pattern.findall(line)\n",
    "        for name in names:\n",
    "            name_to_titles[name].add(current_title)\n",
    "\n",
    "if not name_to_titles:\n",
    "    print(\"No data to process.\")\n",
    "else:\n",
    "    print(\"good to print\")\n",
    "                \n",
    "# # 打印统计结果\n",
    "# for name, titles in name_to_titles.items():\n",
    "#     print(f\"{name} 出现在 {len(titles)} 个标题中: {', '.join(titles)}\")\n"
   ]
  },
  {
   "cell_type": "code",
   "id": "d041abaf3fa422f3",
   "metadata": {
    "ExecuteTime": {
     "end_time": "2025-08-14T09:44:46.952771Z",
     "start_time": "2025-08-14T09:44:46.913702Z"
    }
   },
   "source": [
    "import pandas as pd\n",
    "import openpyxl\n",
    "# Ensure the openpyxl module is installed for exporting to Excel\n",
    "\n",
    "try:\n",
    "    pass  # Placeholder for any code you might want to add in the try block\n",
    "except ImportError:\n",
    "    print(\"openpyxl 模块未安装，请使用以下命令安装：\")\n",
    "    print(\"!pip install openpyxl\")\n",
    "\n",
    "# 将统计结果保存到一个DataFrame中\n",
    "result_data = {'Name': [], 'Title Count': [], 'Titles': []}\n",
    "for name, titles in name_to_titles.items():\n",
    "    result_data['Name'].append(name)\n",
    "    result_data['Title Count'].append(len(titles))\n",
    "    result_data['Titles'].append(', '.join(titles))\n",
    "\n",
    "result_df = pd.DataFrame(result_data)\n",
    "\n",
    "# 导出到Excel文件\n",
    "output_path = file_path.rsplit('/', 1)[0] + '/统计结果.xlsx'\n",
    "result_df.to_excel(output_path, index=False, encoding='utf-8')\n",
    "print(f\"统计结果已导出到: {output_path}\")"
   ],
   "outputs": [
    {
     "ename": "NameError",
     "evalue": "name 'name_to_titles' is not defined",
     "output_type": "error",
     "traceback": [
      "\u001B[0;31m---------------------------------------------------------------------------\u001B[0m",
      "\u001B[0;31mNameError\u001B[0m                                 Traceback (most recent call last)",
      "Cell \u001B[0;32mIn[9], line 13\u001B[0m\n\u001B[1;32m     11\u001B[0m \u001B[38;5;66;03m# 将统计结果保存到一个DataFrame中\u001B[39;00m\n\u001B[1;32m     12\u001B[0m result_data \u001B[38;5;241m=\u001B[39m {\u001B[38;5;124m'\u001B[39m\u001B[38;5;124mName\u001B[39m\u001B[38;5;124m'\u001B[39m: [], \u001B[38;5;124m'\u001B[39m\u001B[38;5;124mTitle Count\u001B[39m\u001B[38;5;124m'\u001B[39m: [], \u001B[38;5;124m'\u001B[39m\u001B[38;5;124mTitles\u001B[39m\u001B[38;5;124m'\u001B[39m: []}\n\u001B[0;32m---> 13\u001B[0m \u001B[38;5;28;01mfor\u001B[39;00m name, titles \u001B[38;5;129;01min\u001B[39;00m \u001B[43mname_to_titles\u001B[49m\u001B[38;5;241m.\u001B[39mitems():\n\u001B[1;32m     14\u001B[0m     result_data[\u001B[38;5;124m'\u001B[39m\u001B[38;5;124mName\u001B[39m\u001B[38;5;124m'\u001B[39m]\u001B[38;5;241m.\u001B[39mappend(name)\n\u001B[1;32m     15\u001B[0m     result_data[\u001B[38;5;124m'\u001B[39m\u001B[38;5;124mTitle Count\u001B[39m\u001B[38;5;124m'\u001B[39m]\u001B[38;5;241m.\u001B[39mappend(\u001B[38;5;28mlen\u001B[39m(titles))\n",
      "\u001B[0;31mNameError\u001B[0m: name 'name_to_titles' is not defined"
     ]
    }
   ],
   "execution_count": 9
  },
  {
   "metadata": {},
   "cell_type": "markdown",
   "source": "",
   "id": "e6d1585ebf54c247"
  }
 ],
 "metadata": {
  "kernelspec": {
   "display_name": "untitled-z3V5w79D",
   "language": "python",
   "name": "python3"
  },
  "language_info": {
   "codemirror_mode": {
    "name": "ipython",
    "version": 3
   },
   "file_extension": ".py",
   "mimetype": "text/x-python",
   "name": "python",
   "nbconvert_exporter": "python",
   "pygments_lexer": "ipython3",
   "version": "3.8.2"
  }
 },
 "nbformat": 4,
 "nbformat_minor": 5
}
